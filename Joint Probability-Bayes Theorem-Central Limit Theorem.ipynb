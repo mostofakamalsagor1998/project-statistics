{
 "cells": [
  {
   "cell_type": "markdown",
   "metadata": {},
   "source": [
    "<h1>Joint Probability</h1>"
   ]
  },
  {
   "cell_type": "code",
   "execution_count": 4,
   "metadata": {},
   "outputs": [
    {
     "name": "stdout",
     "output_type": "stream",
     "text": [
      "Enter rows : 2\n",
      "Enter the probability values : 0.20,0.10,0.20\n",
      "Enter the probability values : 0.25,0.15,0.30\n",
      "Row 1 :  0.5\n",
      "Row 2 :  0.7\n",
      "Column 1 :  0.45\n",
      "Column 2 :  0.25\n",
      "Column 3 :  0.5\n"
     ]
    }
   ],
   "source": [
    "matrix=[]\n",
    "for itr in range(int(input(\"Enter rows : \"))):\n",
    "    matrix.append([float(px) for px in input(\"Enter the probability values : \").split(\",\")])\n",
    "i=1\n",
    "row=[]\n",
    "for elem in matrix:\n",
    "    row.append(sum(elem))\n",
    "    print(f\"Row {i} : \",sum(elem))\n",
    "    i+=1\n",
    "i=1\n",
    "col=[]\n",
    "for itr1 in range(len(matrix[0])):\n",
    "    s=0\n",
    "    for itr2 in range(len(matrix)):\n",
    "        s+=matrix[itr2][itr1]\n",
    "    col.append(s)\n",
    "    print(f\"Column {i} : \",s)\n",
    "    i+=1"
   ]
  },
  {
   "cell_type": "markdown",
   "metadata": {},
   "source": [
    "<h1>Bayes Theorem</h1>"
   ]
  },
  {
   "cell_type": "code",
   "execution_count": 6,
   "metadata": {},
   "outputs": [
    {
     "name": "stdout",
     "output_type": "stream",
     "text": [
      "Enter event's probability : 0.3,0.5,0.8\n",
      "Enter conditional probability : 0.44,0.22,0.33\n",
      "(Event- A |Common) : (1, 0.2608695652173913)\n",
      "(Event- B |Common) : (2, 0.21739130434782608)\n",
      "(Event- C |Common) : (3, 0.5217391304347826)\n",
      "P(Common) : 0.506\n"
     ]
    }
   ],
   "source": [
    "d={}\n",
    "p_event=[float(x) for x in input(\"Enter event's probability : \").split(\",\")]\n",
    "p_common_event=[float(y) for y in input(\"Enter conditional probability : \").split(\",\")]\n",
    "p_common=0\n",
    "for itr in range(len(p_common_event)):\n",
    "    p_common+=p_event[itr]*p_common_event[itr]\n",
    "    d[itr+1]=p_event[itr]*p_common_event[itr]\n",
    "e=65\n",
    "for k,v in d.items():\n",
    "    d[k]=v/p_common\n",
    "    print(\"(Event-\",chr(e),\"|Common) :\",(k,d[k]))\n",
    "    e+=1\n",
    "print(\"P(Common) :\",p_common)"
   ]
  },
  {
   "cell_type": "markdown",
   "metadata": {},
   "source": [
    "<h1>Central limit theorem</h1>"
   ]
  },
  {
   "cell_type": "code",
   "execution_count": 7,
   "metadata": {},
   "outputs": [
    {
     "name": "stdout",
     "output_type": "stream",
     "text": [
      "Random sample size : 50\n",
      "Mean : 112\n",
      "Standard deviation : 40\n",
      "(112.0, 5.65685424949238)\n"
     ]
    }
   ],
   "source": [
    "import math\n",
    "n=int(input(\"Random sample size : \"))\n",
    "mean=float(input(\"Mean : \"))\n",
    "sd=float(input(\"Standard deviation : \"))/math.sqrt(n)\n",
    "print((mean,sd))"
   ]
  },
  {
   "cell_type": "code",
   "execution_count": 15,
   "metadata": {},
   "outputs": [
    {
     "name": "stdout",
     "output_type": "stream",
     "text": [
      "Enter random sample mean : 113\n",
      "113.0 ==> Z-score :  0.1767766952966369 ==> 0.5701581024006669\n",
      "Greater than : 0.4298418975993331\n",
      "Less than : 0.5701581024006669\n"
     ]
    }
   ],
   "source": [
    "import scipy.stats\n",
    "x_bar=[float(z) for z in input(\"Enter random sample mean : \").split(\",\")]\n",
    "p=[]\n",
    "itr=0\n",
    "for num in x_bar:\n",
    "    p.append(scipy.stats.norm(mean, sd).cdf(num))\n",
    "    print(num,\"==>\",\"Z-score : \",(num-mean)/sd,\"==>\",p[itr])\n",
    "    itr+=1\n",
    "if len(p)==2:\n",
    "    print(\"Probability : \",p[1]-p[0])\n",
    "else:\n",
    "    print(\"Greater than :\",1-p[0])\n",
    "    print(\"Less than :\",p[0])"
   ]
  }
 ],
 "metadata": {
  "kernelspec": {
   "display_name": "Python 3",
   "language": "python",
   "name": "python3"
  },
  "language_info": {
   "codemirror_mode": {
    "name": "ipython",
    "version": 3
   },
   "file_extension": ".py",
   "mimetype": "text/x-python",
   "name": "python",
   "nbconvert_exporter": "python",
   "pygments_lexer": "ipython3",
   "version": "3.7.6"
  }
 },
 "nbformat": 4,
 "nbformat_minor": 4
}
