{
 "cells": [
  {
   "cell_type": "code",
   "execution_count": 1,
   "metadata": {},
   "outputs": [],
   "source": [
    "import numpy as np\n",
    "import pandas as pd"
   ]
  },
  {
   "cell_type": "code",
   "execution_count": 2,
   "metadata": {},
   "outputs": [],
   "source": [
    "table=pd.read_excel(\"C:/Users/Death Fighter/Desktop/Fall 2020/STA301/Data/Data3.xlsx\")"
   ]
  },
  {
   "cell_type": "code",
   "execution_count": 3,
   "metadata": {},
   "outputs": [
    {
     "data": {
      "text/html": [
       "<div>\n",
       "<style scoped>\n",
       "    .dataframe tbody tr th:only-of-type {\n",
       "        vertical-align: middle;\n",
       "    }\n",
       "\n",
       "    .dataframe tbody tr th {\n",
       "        vertical-align: top;\n",
       "    }\n",
       "\n",
       "    .dataframe thead th {\n",
       "        text-align: right;\n",
       "    }\n",
       "</style>\n",
       "<table border=\"1\" class=\"dataframe\">\n",
       "  <thead>\n",
       "    <tr style=\"text-align: right;\">\n",
       "      <th></th>\n",
       "      <th>Age</th>\n",
       "      <th>Income</th>\n",
       "      <th>Student</th>\n",
       "      <th>Credit rating</th>\n",
       "      <th>Purchasing  Computer</th>\n",
       "    </tr>\n",
       "  </thead>\n",
       "  <tbody>\n",
       "    <tr>\n",
       "      <th>0</th>\n",
       "      <td>youth</td>\n",
       "      <td>high</td>\n",
       "      <td>no</td>\n",
       "      <td>fair</td>\n",
       "      <td>no</td>\n",
       "    </tr>\n",
       "    <tr>\n",
       "      <th>1</th>\n",
       "      <td>youth</td>\n",
       "      <td>high</td>\n",
       "      <td>no</td>\n",
       "      <td>excellent</td>\n",
       "      <td>no</td>\n",
       "    </tr>\n",
       "    <tr>\n",
       "      <th>2</th>\n",
       "      <td>middle aged</td>\n",
       "      <td>high</td>\n",
       "      <td>no</td>\n",
       "      <td>fair</td>\n",
       "      <td>yes</td>\n",
       "    </tr>\n",
       "    <tr>\n",
       "      <th>3</th>\n",
       "      <td>senior</td>\n",
       "      <td>medium</td>\n",
       "      <td>no</td>\n",
       "      <td>fair</td>\n",
       "      <td>yes</td>\n",
       "    </tr>\n",
       "    <tr>\n",
       "      <th>4</th>\n",
       "      <td>senior</td>\n",
       "      <td>low</td>\n",
       "      <td>yes</td>\n",
       "      <td>fair</td>\n",
       "      <td>yes</td>\n",
       "    </tr>\n",
       "    <tr>\n",
       "      <th>5</th>\n",
       "      <td>senior</td>\n",
       "      <td>low</td>\n",
       "      <td>yes</td>\n",
       "      <td>excellent</td>\n",
       "      <td>no</td>\n",
       "    </tr>\n",
       "    <tr>\n",
       "      <th>6</th>\n",
       "      <td>middle aged</td>\n",
       "      <td>low</td>\n",
       "      <td>yes</td>\n",
       "      <td>excellent</td>\n",
       "      <td>yes</td>\n",
       "    </tr>\n",
       "    <tr>\n",
       "      <th>7</th>\n",
       "      <td>youth</td>\n",
       "      <td>medium</td>\n",
       "      <td>no</td>\n",
       "      <td>fair</td>\n",
       "      <td>no</td>\n",
       "    </tr>\n",
       "    <tr>\n",
       "      <th>8</th>\n",
       "      <td>youth</td>\n",
       "      <td>low</td>\n",
       "      <td>yes</td>\n",
       "      <td>fair</td>\n",
       "      <td>yes</td>\n",
       "    </tr>\n",
       "    <tr>\n",
       "      <th>9</th>\n",
       "      <td>senior</td>\n",
       "      <td>medium</td>\n",
       "      <td>yes</td>\n",
       "      <td>fair</td>\n",
       "      <td>yes</td>\n",
       "    </tr>\n",
       "    <tr>\n",
       "      <th>10</th>\n",
       "      <td>youth</td>\n",
       "      <td>medium</td>\n",
       "      <td>yes</td>\n",
       "      <td>excellent</td>\n",
       "      <td>yes</td>\n",
       "    </tr>\n",
       "    <tr>\n",
       "      <th>11</th>\n",
       "      <td>middle aged</td>\n",
       "      <td>medium</td>\n",
       "      <td>no</td>\n",
       "      <td>excellent</td>\n",
       "      <td>yes</td>\n",
       "    </tr>\n",
       "    <tr>\n",
       "      <th>12</th>\n",
       "      <td>middle aged</td>\n",
       "      <td>high</td>\n",
       "      <td>yes</td>\n",
       "      <td>fair</td>\n",
       "      <td>yes</td>\n",
       "    </tr>\n",
       "    <tr>\n",
       "      <th>13</th>\n",
       "      <td>senior</td>\n",
       "      <td>medium</td>\n",
       "      <td>no</td>\n",
       "      <td>excellent</td>\n",
       "      <td>no</td>\n",
       "    </tr>\n",
       "  </tbody>\n",
       "</table>\n",
       "</div>"
      ],
      "text/plain": [
       "            Age   Income  Student  Credit rating  Purchasing  Computer \n",
       "0         youth     high       no           fair                    no \n",
       "1         youth     high       no      excellent                    no \n",
       "2   middle aged     high       no           fair                   yes \n",
       "3        senior   medium       no           fair                   yes \n",
       "4        senior      low      yes           fair                   yes \n",
       "5        senior      low      yes      excellent                    no \n",
       "6   middle aged      low      yes      excellent                   yes \n",
       "7         youth   medium       no           fair                    no \n",
       "8         youth      low      yes           fair                   yes \n",
       "9        senior   medium      yes           fair                   yes \n",
       "10        youth   medium      yes      excellent                   yes \n",
       "11  middle aged   medium       no      excellent                   yes \n",
       "12  middle aged     high      yes           fair                   yes \n",
       "13       senior   medium       no      excellent                    no "
      ]
     },
     "execution_count": 3,
     "metadata": {},
     "output_type": "execute_result"
    }
   ],
   "source": [
    "table"
   ]
  },
  {
   "cell_type": "code",
   "execution_count": 4,
   "metadata": {},
   "outputs": [
    {
     "data": {
      "text/plain": [
       "14"
      ]
     },
     "execution_count": 4,
     "metadata": {},
     "output_type": "execute_result"
    }
   ],
   "source": [
    "table.shape[0]"
   ]
  },
  {
   "cell_type": "code",
   "execution_count": 5,
   "metadata": {},
   "outputs": [
    {
     "name": "stdout",
     "output_type": "stream",
     "text": [
      "Age \n",
      "Income \n",
      "Student \n",
      "Credit rating \n",
      "Purchasing  Computer \n"
     ]
    }
   ],
   "source": [
    "column=[col for col in table.columns]\n",
    "rows=table.shape[0]\n",
    "prob={}\n",
    "for col in table.columns:\n",
    "    print(col)\n",
    "    td={}\n",
    "    for v in table[col].unique():\n",
    "        td[v]=0\n",
    "    for i in range(rows):\n",
    "        td[table[col][i]]+=1\n",
    "    p=[]\n",
    "    for k,v in td.items():\n",
    "        p.append((k,float(\"%.4f\" %(v/rows))))\n",
    "    prob[col]=p\n",
    "    \n",
    "        "
   ]
  },
  {
   "cell_type": "markdown",
   "metadata": {},
   "source": [
    "# Prior Probabilities"
   ]
  },
  {
   "cell_type": "code",
   "execution_count": 6,
   "metadata": {},
   "outputs": [
    {
     "name": "stdout",
     "output_type": "stream",
     "text": [
      "[#] Age \n",
      "youth   :  0.3571\n",
      "middle aged   :  0.2857\n",
      "senior   :  0.3571\n",
      "======================\n",
      "[#] Income \n",
      "high   :  0.2857\n",
      "medium   :  0.4286\n",
      "low   :  0.2857\n",
      "======================\n",
      "[#] Student \n",
      "no   :  0.5\n",
      "yes   :  0.5\n",
      "======================\n",
      "[#] Credit rating \n",
      "fair   :  0.5714\n",
      "excellent   :  0.4286\n",
      "======================\n",
      "[#] Purchasing  Computer \n",
      "no   :  0.3571\n",
      "yes   :  0.6429\n",
      "======================\n"
     ]
    }
   ],
   "source": [
    "for k,v in prob.items():\n",
    "    print(\"[#]\",k)\n",
    "    for e in v:\n",
    "        print(e[0],\" : \",e[1])\n",
    "    print(\"======================\")"
   ]
  },
  {
   "cell_type": "markdown",
   "metadata": {},
   "source": [
    "# Labels"
   ]
  },
  {
   "cell_type": "code",
   "execution_count": 7,
   "metadata": {},
   "outputs": [],
   "source": [
    "labels=[label for label in table[table.columns[len(table.columns)-1]].unique()]"
   ]
  },
  {
   "cell_type": "code",
   "execution_count": 8,
   "metadata": {},
   "outputs": [
    {
     "data": {
      "text/plain": [
       "['no ', 'yes ']"
      ]
     },
     "execution_count": 8,
     "metadata": {},
     "output_type": "execute_result"
    }
   ],
   "source": [
    "labels"
   ]
  },
  {
   "cell_type": "code",
   "execution_count": 9,
   "metadata": {},
   "outputs": [],
   "source": [
    "label1=table[table[table.columns[len(table.columns)-1]]==labels[1]]\n",
    "label0=table[table[table.columns[len(table.columns)-1]]==labels[0]]"
   ]
  },
  {
   "cell_type": "markdown",
   "metadata": {},
   "source": [
    "# Label:1(Yes)"
   ]
  },
  {
   "cell_type": "code",
   "execution_count": 10,
   "metadata": {},
   "outputs": [
    {
     "data": {
      "text/html": [
       "<div>\n",
       "<style scoped>\n",
       "    .dataframe tbody tr th:only-of-type {\n",
       "        vertical-align: middle;\n",
       "    }\n",
       "\n",
       "    .dataframe tbody tr th {\n",
       "        vertical-align: top;\n",
       "    }\n",
       "\n",
       "    .dataframe thead th {\n",
       "        text-align: right;\n",
       "    }\n",
       "</style>\n",
       "<table border=\"1\" class=\"dataframe\">\n",
       "  <thead>\n",
       "    <tr style=\"text-align: right;\">\n",
       "      <th></th>\n",
       "      <th>Age</th>\n",
       "      <th>Income</th>\n",
       "      <th>Student</th>\n",
       "      <th>Credit rating</th>\n",
       "      <th>Purchasing  Computer</th>\n",
       "    </tr>\n",
       "  </thead>\n",
       "  <tbody>\n",
       "    <tr>\n",
       "      <th>2</th>\n",
       "      <td>middle aged</td>\n",
       "      <td>high</td>\n",
       "      <td>no</td>\n",
       "      <td>fair</td>\n",
       "      <td>yes</td>\n",
       "    </tr>\n",
       "    <tr>\n",
       "      <th>3</th>\n",
       "      <td>senior</td>\n",
       "      <td>medium</td>\n",
       "      <td>no</td>\n",
       "      <td>fair</td>\n",
       "      <td>yes</td>\n",
       "    </tr>\n",
       "    <tr>\n",
       "      <th>4</th>\n",
       "      <td>senior</td>\n",
       "      <td>low</td>\n",
       "      <td>yes</td>\n",
       "      <td>fair</td>\n",
       "      <td>yes</td>\n",
       "    </tr>\n",
       "    <tr>\n",
       "      <th>6</th>\n",
       "      <td>middle aged</td>\n",
       "      <td>low</td>\n",
       "      <td>yes</td>\n",
       "      <td>excellent</td>\n",
       "      <td>yes</td>\n",
       "    </tr>\n",
       "    <tr>\n",
       "      <th>8</th>\n",
       "      <td>youth</td>\n",
       "      <td>low</td>\n",
       "      <td>yes</td>\n",
       "      <td>fair</td>\n",
       "      <td>yes</td>\n",
       "    </tr>\n",
       "    <tr>\n",
       "      <th>9</th>\n",
       "      <td>senior</td>\n",
       "      <td>medium</td>\n",
       "      <td>yes</td>\n",
       "      <td>fair</td>\n",
       "      <td>yes</td>\n",
       "    </tr>\n",
       "    <tr>\n",
       "      <th>10</th>\n",
       "      <td>youth</td>\n",
       "      <td>medium</td>\n",
       "      <td>yes</td>\n",
       "      <td>excellent</td>\n",
       "      <td>yes</td>\n",
       "    </tr>\n",
       "    <tr>\n",
       "      <th>11</th>\n",
       "      <td>middle aged</td>\n",
       "      <td>medium</td>\n",
       "      <td>no</td>\n",
       "      <td>excellent</td>\n",
       "      <td>yes</td>\n",
       "    </tr>\n",
       "    <tr>\n",
       "      <th>12</th>\n",
       "      <td>middle aged</td>\n",
       "      <td>high</td>\n",
       "      <td>yes</td>\n",
       "      <td>fair</td>\n",
       "      <td>yes</td>\n",
       "    </tr>\n",
       "  </tbody>\n",
       "</table>\n",
       "</div>"
      ],
      "text/plain": [
       "            Age   Income  Student  Credit rating  Purchasing  Computer \n",
       "2   middle aged     high       no           fair                   yes \n",
       "3        senior   medium       no           fair                   yes \n",
       "4        senior      low      yes           fair                   yes \n",
       "6   middle aged      low      yes      excellent                   yes \n",
       "8         youth      low      yes           fair                   yes \n",
       "9        senior   medium      yes           fair                   yes \n",
       "10        youth   medium      yes      excellent                   yes \n",
       "11  middle aged   medium       no      excellent                   yes \n",
       "12  middle aged     high      yes           fair                   yes "
      ]
     },
     "execution_count": 10,
     "metadata": {},
     "output_type": "execute_result"
    }
   ],
   "source": [
    "label1"
   ]
  },
  {
   "cell_type": "markdown",
   "metadata": {},
   "source": [
    "# Label:0(No)"
   ]
  },
  {
   "cell_type": "code",
   "execution_count": 11,
   "metadata": {},
   "outputs": [
    {
     "data": {
      "text/html": [
       "<div>\n",
       "<style scoped>\n",
       "    .dataframe tbody tr th:only-of-type {\n",
       "        vertical-align: middle;\n",
       "    }\n",
       "\n",
       "    .dataframe tbody tr th {\n",
       "        vertical-align: top;\n",
       "    }\n",
       "\n",
       "    .dataframe thead th {\n",
       "        text-align: right;\n",
       "    }\n",
       "</style>\n",
       "<table border=\"1\" class=\"dataframe\">\n",
       "  <thead>\n",
       "    <tr style=\"text-align: right;\">\n",
       "      <th></th>\n",
       "      <th>Age</th>\n",
       "      <th>Income</th>\n",
       "      <th>Student</th>\n",
       "      <th>Credit rating</th>\n",
       "      <th>Purchasing  Computer</th>\n",
       "    </tr>\n",
       "  </thead>\n",
       "  <tbody>\n",
       "    <tr>\n",
       "      <th>0</th>\n",
       "      <td>youth</td>\n",
       "      <td>high</td>\n",
       "      <td>no</td>\n",
       "      <td>fair</td>\n",
       "      <td>no</td>\n",
       "    </tr>\n",
       "    <tr>\n",
       "      <th>1</th>\n",
       "      <td>youth</td>\n",
       "      <td>high</td>\n",
       "      <td>no</td>\n",
       "      <td>excellent</td>\n",
       "      <td>no</td>\n",
       "    </tr>\n",
       "    <tr>\n",
       "      <th>5</th>\n",
       "      <td>senior</td>\n",
       "      <td>low</td>\n",
       "      <td>yes</td>\n",
       "      <td>excellent</td>\n",
       "      <td>no</td>\n",
       "    </tr>\n",
       "    <tr>\n",
       "      <th>7</th>\n",
       "      <td>youth</td>\n",
       "      <td>medium</td>\n",
       "      <td>no</td>\n",
       "      <td>fair</td>\n",
       "      <td>no</td>\n",
       "    </tr>\n",
       "    <tr>\n",
       "      <th>13</th>\n",
       "      <td>senior</td>\n",
       "      <td>medium</td>\n",
       "      <td>no</td>\n",
       "      <td>excellent</td>\n",
       "      <td>no</td>\n",
       "    </tr>\n",
       "  </tbody>\n",
       "</table>\n",
       "</div>"
      ],
      "text/plain": [
       "       Age   Income  Student  Credit rating  Purchasing  Computer \n",
       "0    youth     high       no           fair                    no \n",
       "1    youth     high       no      excellent                    no \n",
       "5   senior      low      yes      excellent                    no \n",
       "7    youth   medium       no           fair                    no \n",
       "13  senior   medium       no      excellent                    no "
      ]
     },
     "execution_count": 11,
     "metadata": {},
     "output_type": "execute_result"
    }
   ],
   "source": [
    "label0"
   ]
  },
  {
   "cell_type": "markdown",
   "metadata": {},
   "source": [
    "# Yes Label Counts"
   ]
  },
  {
   "cell_type": "code",
   "execution_count": 12,
   "metadata": {},
   "outputs": [],
   "source": [
    "yeslabel={}\n",
    "key=[k for k in table[table.columns[0]].unique()]\n",
    "for idx1 in range(len(table.columns)-1):\n",
    "    track1={}\n",
    "    for elem in label1[table.columns[idx1]]:\n",
    "        if str(elem).strip() not in track1.keys():\n",
    "            track1[str(elem).strip()]=1\n",
    "        else:\n",
    "            track1[str(elem).strip()]+=1\n",
    "    for elem in table[table.columns[idx1]]:\n",
    "        if str(elem).strip() not in track1.keys():\n",
    "            track1[str(elem).strip()]=0\n",
    "    yeslabel[label1.columns[idx1]]=track1"
   ]
  },
  {
   "cell_type": "code",
   "execution_count": 13,
   "metadata": {},
   "outputs": [
    {
     "data": {
      "text/plain": [
       "{'Age ': {'middle aged': 4, 'senior': 3, 'youth': 2},\n",
       " 'Income ': {'high': 2, 'medium': 4, 'low': 3},\n",
       " 'Student ': {'no': 3, 'yes': 6},\n",
       " 'Credit rating ': {'fair': 6, 'excellent': 3}}"
      ]
     },
     "execution_count": 13,
     "metadata": {},
     "output_type": "execute_result"
    }
   ],
   "source": [
    "yeslabel"
   ]
  },
  {
   "cell_type": "markdown",
   "metadata": {},
   "source": [
    "# No Label Counts"
   ]
  },
  {
   "cell_type": "code",
   "execution_count": 14,
   "metadata": {},
   "outputs": [],
   "source": [
    "nolabel={}\n",
    "for idx1 in range(len(table.columns)-1):\n",
    "    track2={}\n",
    "    for elem in label0[table.columns[idx1]]:\n",
    "        if str(elem).strip() not in track2.keys():\n",
    "            track2[str(elem).strip()]=1\n",
    "        else:\n",
    "            track2[str(elem).strip()]+=1\n",
    "    for elem in table[table.columns[idx1]]:\n",
    "        if str(elem).strip() not in track2.keys():\n",
    "            track2[str(elem).strip()]=0\n",
    "    nolabel[label0.columns[idx1]]=track2"
   ]
  },
  {
   "cell_type": "code",
   "execution_count": 15,
   "metadata": {},
   "outputs": [
    {
     "data": {
      "text/plain": [
       "{'Age ': {'youth': 3, 'senior': 2, 'middle aged': 0},\n",
       " 'Income ': {'high': 2, 'low': 1, 'medium': 2},\n",
       " 'Student ': {'no': 4, 'yes': 1},\n",
       " 'Credit rating ': {'fair': 2, 'excellent': 3}}"
      ]
     },
     "execution_count": 15,
     "metadata": {},
     "output_type": "execute_result"
    }
   ],
   "source": [
    "nolabel"
   ]
  },
  {
   "cell_type": "markdown",
   "metadata": {},
   "source": [
    "# Yes Label Probabilities"
   ]
  },
  {
   "cell_type": "code",
   "execution_count": 16,
   "metadata": {},
   "outputs": [
    {
     "data": {
      "text/plain": [
       "{'Age ': {'middle aged': 4, 'senior': 3, 'youth': 2},\n",
       " 'Income ': {'high': 2, 'medium': 4, 'low': 3},\n",
       " 'Student ': {'no': 3, 'yes': 6},\n",
       " 'Credit rating ': {'fair': 6, 'excellent': 3}}"
      ]
     },
     "execution_count": 16,
     "metadata": {},
     "output_type": "execute_result"
    }
   ],
   "source": [
    "yeslabel"
   ]
  },
  {
   "cell_type": "code",
   "execution_count": 17,
   "metadata": {},
   "outputs": [
    {
     "name": "stdout",
     "output_type": "stream",
     "text": [
      "[#] Age \n",
      "middle aged  :  4 / 9\n",
      "senior  :  3 / 9\n",
      "youth  :  2 / 9\n",
      "[#] Income \n",
      "high  :  2 / 9\n",
      "medium  :  4 / 9\n",
      "low  :  3 / 9\n",
      "[#] Student \n",
      "no  :  3 / 9\n",
      "yes  :  6 / 9\n",
      "[#] Credit rating \n",
      "fair  :  6 / 9\n",
      "excellent  :  3 / 9\n"
     ]
    }
   ],
   "source": [
    "r1=int(label1.shape[0])\n",
    "yes={}\n",
    "for attribute in yeslabel.keys():\n",
    "        yes[attribute]=[]\n",
    "for attribute,yesvalues in yeslabel.items():\n",
    "    print(\"[#]\",attribute)\n",
    "    sum=0\n",
    "    for k,v in yesvalues.items():\n",
    "        print(k,\" : \",v,\"/\",r1)\n",
    "        yes[attribute].append((k,float(\"%.4f\" %(v/r1))))"
   ]
  },
  {
   "cell_type": "code",
   "execution_count": 18,
   "metadata": {},
   "outputs": [
    {
     "data": {
      "text/plain": [
       "{'Age ': [('middle aged', 0.4444), ('senior', 0.3333), ('youth', 0.2222)],\n",
       " 'Income ': [('high', 0.2222), ('medium', 0.4444), ('low', 0.3333)],\n",
       " 'Student ': [('no', 0.3333), ('yes', 0.6667)],\n",
       " 'Credit rating ': [('fair', 0.6667), ('excellent', 0.3333)]}"
      ]
     },
     "execution_count": 18,
     "metadata": {},
     "output_type": "execute_result"
    }
   ],
   "source": [
    "yes"
   ]
  },
  {
   "cell_type": "markdown",
   "metadata": {},
   "source": [
    "# No Label Probabilities"
   ]
  },
  {
   "cell_type": "code",
   "execution_count": 19,
   "metadata": {},
   "outputs": [
    {
     "data": {
      "text/plain": [
       "{'Age ': {'youth': 3, 'senior': 2, 'middle aged': 0},\n",
       " 'Income ': {'high': 2, 'low': 1, 'medium': 2},\n",
       " 'Student ': {'no': 4, 'yes': 1},\n",
       " 'Credit rating ': {'fair': 2, 'excellent': 3}}"
      ]
     },
     "execution_count": 19,
     "metadata": {},
     "output_type": "execute_result"
    }
   ],
   "source": [
    "nolabel"
   ]
  },
  {
   "cell_type": "code",
   "execution_count": 20,
   "metadata": {},
   "outputs": [
    {
     "name": "stdout",
     "output_type": "stream",
     "text": [
      "[#] Age \n",
      "youth  :  3 / 5\n",
      "senior  :  2 / 5\n",
      "middle aged  :  0 / 5\n",
      "[#] Income \n",
      "high  :  2 / 5\n",
      "low  :  1 / 5\n",
      "medium  :  2 / 5\n",
      "[#] Student \n",
      "no  :  4 / 5\n",
      "yes  :  1 / 5\n",
      "[#] Credit rating \n",
      "fair  :  2 / 5\n",
      "excellent  :  3 / 5\n"
     ]
    }
   ],
   "source": [
    "r2=int(label0.shape[0])\n",
    "no={}\n",
    "for attribute in nolabel.keys():\n",
    "        no[attribute]=[]\n",
    "for attribute,novalues in nolabel.items():\n",
    "    print(\"[#]\",attribute)\n",
    "    sum=0\n",
    "    for k,v in novalues.items():\n",
    "        print(k,\" : \",v,\"/\",r2)\n",
    "        no[attribute].append((k,float(\"%.4f\" %(v/r2)))) "
   ]
  },
  {
   "cell_type": "code",
   "execution_count": 21,
   "metadata": {},
   "outputs": [
    {
     "data": {
      "text/plain": [
       "{'Age ': [('youth', 0.6), ('senior', 0.4), ('middle aged', 0.0)],\n",
       " 'Income ': [('high', 0.4), ('low', 0.2), ('medium', 0.4)],\n",
       " 'Student ': [('no', 0.8), ('yes', 0.2)],\n",
       " 'Credit rating ': [('fair', 0.4), ('excellent', 0.6)]}"
      ]
     },
     "execution_count": 21,
     "metadata": {},
     "output_type": "execute_result"
    }
   ],
   "source": [
    "no"
   ]
  },
  {
   "cell_type": "markdown",
   "metadata": {},
   "source": [
    "# Summary"
   ]
  },
  {
   "cell_type": "code",
   "execution_count": 22,
   "metadata": {},
   "outputs": [
    {
     "name": "stdout",
     "output_type": "stream",
     "text": [
      "           Age   Yes  P(Yes)  No  P(No)\n",
      "0        youth     4  0.4444   3    0.6\n",
      "1  middle aged     3  0.3333   2    0.4\n",
      "2       senior     2  0.2222   0    0.0\n",
      "===============================================================\n",
      "   Income   Yes  P(Yes)  No  P(No)\n",
      "0    high     2  0.2222   2    0.4\n",
      "1  medium     4  0.4444   1    0.2\n",
      "2     low     3  0.3333   2    0.4\n",
      "===============================================================\n",
      "  Student   Yes  P(Yes)  No  P(No)\n",
      "0      no     3  0.3333   4    0.8\n",
      "1     yes     6  0.6667   1    0.2\n",
      "===============================================================\n",
      "  Credit rating   Yes  P(Yes)  No  P(No)\n",
      "0          fair     6  0.6667   2    0.4\n",
      "1     excellent     3  0.3333   3    0.6\n",
      "===============================================================\n"
     ]
    }
   ],
   "source": [
    "key=[k for k in yes.keys()]\n",
    "for j in range(len(yes)):\n",
    "    atr=[v for v in table[table.columns[j]].unique()]\n",
    "    val1=[]\n",
    "    prob1=[]\n",
    "    val2=[]\n",
    "    prob2=[]\n",
    "    val2=[]\n",
    "    for i in range(len([v for v in yes.values()][j])):\n",
    "        val1.append([v for v in yeslabel.values()][j][[v for v in yes.values()][j][i][0]])\n",
    "        prob1.append([v for v in yes.values()][j][i][1])\n",
    "        \n",
    "    for i in range(len([v for v in no.values()][j])):\n",
    "        val2.append([v for v in nolabel.values()][j][[v for v in no.values()][j][i][0]])\n",
    "        prob2.append([v for v in no.values()][j][i][1])\n",
    "        \n",
    "    newtable={}\n",
    "    newtable[key[j]]=atr\n",
    "    newtable[\"Yes\"]=val1\n",
    "    newtable[\"No\"]=val2\n",
    "    newtable[\"P(Yes)\"]=prob1\n",
    "    newtable[\"P(No)\"]=prob2\n",
    "    df = pd.DataFrame (newtable, columns =[key[j],\"Yes\",\"P(Yes)\",\"No\",\"P(No)\"])\n",
    "    print (df)\n",
    "    print(\"===============================================================\")"
   ]
  },
  {
   "cell_type": "markdown",
   "metadata": {},
   "source": [
    "# Conditions"
   ]
  },
  {
   "cell_type": "code",
   "execution_count": 23,
   "metadata": {},
   "outputs": [
    {
     "name": "stdout",
     "output_type": "stream",
     "text": [
      "youth,medium,yes,fair\n"
     ]
    }
   ],
   "source": [
    "feature_matrix=input().split(\",\")"
   ]
  },
  {
   "cell_type": "code",
   "execution_count": 24,
   "metadata": {},
   "outputs": [
    {
     "data": {
      "text/plain": [
       "{'Age ': [('middle aged', 0.4444), ('senior', 0.3333), ('youth', 0.2222)],\n",
       " 'Income ': [('high', 0.2222), ('medium', 0.4444), ('low', 0.3333)],\n",
       " 'Student ': [('no', 0.3333), ('yes', 0.6667)],\n",
       " 'Credit rating ': [('fair', 0.6667), ('excellent', 0.3333)]}"
      ]
     },
     "execution_count": 24,
     "metadata": {},
     "output_type": "execute_result"
    }
   ],
   "source": [
    "yes"
   ]
  },
  {
   "cell_type": "code",
   "execution_count": 25,
   "metadata": {},
   "outputs": [
    {
     "name": "stdout",
     "output_type": "stream",
     "text": [
      "$\n",
      "$\n",
      "$\n",
      "$\n",
      "Product of conditional probabilities : 0.0439\n"
     ]
    }
   ],
   "source": [
    "product1=1\n",
    "for elem in condition:\n",
    "    for key,values in yes.items():\n",
    "        for e in values:\n",
    "            if elem==e[0]:\n",
    "                product1*=e[1]\n",
    "                print(\"$\")\n",
    "product1=float(\"%.4f\"%product1)\n",
    "print(\"Product of conditional probabilities :\",product1)"
   ]
  },
  {
   "cell_type": "code",
   "execution_count": 26,
   "metadata": {},
   "outputs": [
    {
     "data": {
      "text/plain": [
       "{'Age ': [('youth', 0.6), ('senior', 0.4), ('middle aged', 0.0)],\n",
       " 'Income ': [('high', 0.4), ('low', 0.2), ('medium', 0.4)],\n",
       " 'Student ': [('no', 0.8), ('yes', 0.2)],\n",
       " 'Credit rating ': [('fair', 0.4), ('excellent', 0.6)]}"
      ]
     },
     "execution_count": 26,
     "metadata": {},
     "output_type": "execute_result"
    }
   ],
   "source": [
    "no"
   ]
  },
  {
   "cell_type": "code",
   "execution_count": 27,
   "metadata": {},
   "outputs": [
    {
     "name": "stdout",
     "output_type": "stream",
     "text": [
      "$\n",
      "$\n",
      "$\n",
      "$\n",
      "Product of conditional probabilities : 0.0192\n"
     ]
    }
   ],
   "source": [
    "product2=1\n",
    "for elem in condition:\n",
    "    for key,values in no.items():\n",
    "        for e in values:\n",
    "            if elem==e[0]:\n",
    "                product2*=e[1]\n",
    "                print(\"$\")\n",
    "product2=float(\"%.4f\"%product2)\n",
    "print(\"Product of conditional probabilities :\",product2)"
   ]
  },
  {
   "cell_type": "code",
   "execution_count": 28,
   "metadata": {},
   "outputs": [],
   "source": [
    "p1=product1*(r1/rows)\n",
    "p0=product2*(r2/rows)"
   ]
  },
  {
   "cell_type": "code",
   "execution_count": 29,
   "metadata": {},
   "outputs": [
    {
     "data": {
      "text/plain": [
       "0.0282"
      ]
     },
     "execution_count": 29,
     "metadata": {},
     "output_type": "execute_result"
    }
   ],
   "source": [
    "-0p i7yt12p1"
   ]
  },
  {
   "cell_type": "code",
   "execution_count": 30,
   "metadata": {},
   "outputs": [
    {
     "data": {
      "text/plain": [
       "0.0069"
      ]
     },
     "execution_count": 30,
     "metadata": {},
     "output_type": "execute_result"
    }
   ],
   "source": [
    "p0=float(\"%.4f\"%p0)\n",
    "p0"
   ]
  }
 ],
 "metadata": {
  "kernelspec": {
   "display_name": "Python 3",
   "language": "python",
   "name": "python3"
  },
  "language_info": {
   "codemirror_mode": {
    "name": "ipython",
    "version": 3
   },
   "file_extension": ".py",
   "mimetype": "text/x-python",
   "name": "python",
   "nbconvert_exporter": "python",
   "pygments_lexer": "ipython3",
   "version": "3.7.6"
  }
 },
 "nbformat": 4,
 "nbformat_minor": 4
}
