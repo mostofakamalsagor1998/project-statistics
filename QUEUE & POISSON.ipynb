{
 "cells": [
  {
   "cell_type": "markdown",
   "metadata": {},
   "source": [
    "<H1>QUEUING PROCESS</H1>"
   ]
  },
  {
   "cell_type": "code",
   "execution_count": 45,
   "metadata": {},
   "outputs": [],
   "source": [
    "Lm=2\n",
    "M=3\n",
    "R=Lm/M\n",
    "Lq=(Lm**2)/(M*(M-Lm))\n",
    "Wq=Lm/(M*(M-Lm))\n",
    "Ls=Lm/(M-Lm)\n",
    "Ws=1/(M-Lm)"
   ]
  },
  {
   "cell_type": "code",
   "execution_count": 46,
   "metadata": {},
   "outputs": [
    {
     "data": {
      "text/plain": [
       "0.6666666666666666"
      ]
     },
     "execution_count": 46,
     "metadata": {},
     "output_type": "execute_result"
    }
   ],
   "source": [
    "R#BUSY-SERVER UTILIZATION-TRAFFIC INTENSITY"
   ]
  },
  {
   "cell_type": "code",
   "execution_count": 47,
   "metadata": {},
   "outputs": [
    {
     "data": {
      "text/plain": [
       "0.33333333333333337"
      ]
     },
     "execution_count": 47,
     "metadata": {},
     "output_type": "execute_result"
    }
   ],
   "source": [
    "1-R#IDLE OR NO CUSTOMERS"
   ]
  },
  {
   "cell_type": "code",
   "execution_count": 40,
   "metadata": {},
   "outputs": [
    {
     "data": {
      "text/plain": [
       "0.10546875"
      ]
     },
     "execution_count": 40,
     "metadata": {},
     "output_type": "execute_result"
    }
   ],
   "source": [
    "n=3\n",
    "(R**n)*(1-R)#PROBABILITY OF N CUSTOMERS IN THE SYSTEM"
   ]
  },
  {
   "cell_type": "code",
   "execution_count": 48,
   "metadata": {},
   "outputs": [
    {
     "data": {
      "text/plain": [
       "0.13168724279835387"
      ]
     },
     "execution_count": 48,
     "metadata": {},
     "output_type": "execute_result"
    }
   ],
   "source": [
    "k=5\n",
    "R**k#AT LEAST K CUSTOMERS IN THE SYSTEM...[N(t)>=k]"
   ]
  },
  {
   "cell_type": "code",
   "execution_count": 56,
   "metadata": {},
   "outputs": [
    {
     "data": {
      "text/plain": [
       "1.3333333333333333"
      ]
     },
     "execution_count": 56,
     "metadata": {},
     "output_type": "execute_result"
    }
   ],
   "source": [
    "Lq#AVERAGE # OF CUSTOMERS IN THE QUEUE "
   ]
  },
  {
   "cell_type": "code",
   "execution_count": 58,
   "metadata": {},
   "outputs": [
    {
     "data": {
      "text/plain": [
       "0.6666666666666666"
      ]
     },
     "execution_count": 58,
     "metadata": {},
     "output_type": "execute_result"
    }
   ],
   "source": [
    "Wq#*60#(min>>>hour)#AVERAGE TIME COST SPENDS WAITING IN THE QUEUE"
   ]
  },
  {
   "cell_type": "code",
   "execution_count": 55,
   "metadata": {},
   "outputs": [
    {
     "data": {
      "text/plain": [
       "2.0"
      ]
     },
     "execution_count": 55,
     "metadata": {},
     "output_type": "execute_result"
    }
   ],
   "source": [
    "Ls#AVERAGE # OF CUSTOMERS IN THE SYSTEM"
   ]
  },
  {
   "cell_type": "code",
   "execution_count": 57,
   "metadata": {},
   "outputs": [
    {
     "data": {
      "text/plain": [
       "1.0"
      ]
     },
     "execution_count": 57,
     "metadata": {},
     "output_type": "execute_result"
    }
   ],
   "source": [
    "Ws#*60#(min>>>hour)#AVERAGE TIME COST SPENDS WAITING IN THE SYSTEM"
   ]
  },
  {
   "cell_type": "code",
   "execution_count": 59,
   "metadata": {},
   "outputs": [
    {
     "data": {
      "text/plain": [
       "0.5580351457700471"
      ]
     },
     "execution_count": 59,
     "metadata": {},
     "output_type": "execute_result"
    }
   ],
   "source": [
    "import math\n",
    "r=35/60\n",
    "math.e**(-M*(1-R)*r)#*60#PROBABILITY THAT WILL TAKE A CUSTOMER MORE THAN R AMOUNT OF TIME IN THE SYSTEM"
   ]
  },
  {
   "cell_type": "code",
   "execution_count": 38,
   "metadata": {},
   "outputs": [
    {
     "data": {
      "text/plain": [
       "0.45489799478447507"
      ]
     },
     "execution_count": 38,
     "metadata": {},
     "output_type": "execute_result"
    }
   ],
   "source": [
    "import math\n",
    "d=0.5\n",
    "R*math.e**(-M*(1-R)*d)#*60#PROBABILITY THAT WILL TAKE A CUSTOMER MORE THAN D AMOUNT OF TIME IN THE QUEUE"
   ]
  },
  {
   "cell_type": "markdown",
   "metadata": {},
   "source": [
    "<H1>POISSON</H1>"
   ]
  },
  {
   "cell_type": "code",
   "execution_count": 2,
   "metadata": {},
   "outputs": [
    {
     "name": "stdout",
     "output_type": "stream",
     "text": [
      "k= 0 >>> 4.5399929762484875e-05\n",
      "k= 1 >>> 0.00045399929762484877\n",
      "k= 2 >>> 0.0022699964881242435\n",
      "k= 3 >>> 0.007566654960414146\n",
      "k= 4 >>> 0.018916637401035365\n",
      "k= 5 >>> 0.03783327480207073\n",
      "P(X < 6) = 0.06708596287903182\n",
      "P(X > = 6) = 0.9329140371209682\n"
     ]
    }
   ],
   "source": [
    "import math\n",
    "\n",
    "r=1\n",
    "t=10\n",
    "m=r*t\n",
    "result=0\n",
    "k=6\n",
    "for k in range(k):\n",
    "    print(\"k=\",k,\">>>\",(m**k*math.e**-m)/math.factorial(k))\n",
    "    result+=(m**k*math.e**-m)/math.factorial(k)\n",
    "print(f\"P(X < {k+1}) = {result}\")\n",
    "result=1-result\n",
    "print(f\"P(X > = {k+1}) = {result}\")"
   ]
  }
 ],
 "metadata": {
  "kernelspec": {
   "display_name": "Python 3",
   "language": "python",
   "name": "python3"
  },
  "language_info": {
   "codemirror_mode": {
    "name": "ipython",
    "version": 3
   },
   "file_extension": ".py",
   "mimetype": "text/x-python",
   "name": "python",
   "nbconvert_exporter": "python",
   "pygments_lexer": "ipython3",
   "version": "3.7.9"
  }
 },
 "nbformat": 4,
 "nbformat_minor": 4
}
